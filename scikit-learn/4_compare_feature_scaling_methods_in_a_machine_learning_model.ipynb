{
 "cells": [
  {
   "cell_type": "markdown",
   "id": "388f1b78-16d0-4083-a293-f7242d938a03",
   "metadata": {},
   "source": [
    "### **Challenge 4: Compare Feature Scaling Methods in a Machine Learning Model**\n",
    "#### **Topic:** Feature Scaling (StandardScaler, MinMaxScaler)  \n",
    "\n",
    "#### **Problem Description:**  \n",
    "You are given a dataset with both numerical and categorical features. Your task is to:\n",
    "1. **Apply two different scaling methods** (`MinMaxScaler` and `StandardScaler`) to the numeric features.\n",
    "2. **Train a simple Linear Regression model** on both scaled datasets.\n",
    "3. **Compare the model's performance** by calculating the Mean Squared Error (MSE) for each scaling method.\n",
    "\n",
    "Your function should return the MSE for both Min-Max Scaling and Standard Scaling.\n",
    "\n",
    "---\n",
    "\n",
    "### **Function Signature:**\n",
    "```python\n",
    "def compare_scaling_methods(data: pd.DataFrame, target_column: str) -> dict:\n",
    "    \"\"\"\n",
    "    Compare the impact of Min-Max Scaling and Standard Scaling on Linear Regression performance.\n",
    "\n",
    "    Args:\n",
    "    data (pd.DataFrame): The dataset containing both numerical and categorical features.\n",
    "    target_column (str): The column name of the target variable.\n",
    "\n",
    "    Returns:\n",
    "    dict: A dictionary containing MSE values for 'minmax' and 'zscore' scaling methods.\n",
    "    \"\"\"\n",
    "```\n",
    "\n",
    "---\n",
    "\n",
    "### **Constraints:**\n",
    "1. The dataset contains both **numerical and categorical** features.\n",
    "2. The **target column is numeric** and should not be scaled.\n",
    "3. Use **Linear Regression** from `sklearn.linear_model` to evaluate performance.\n",
    "4. Compute **Mean Squared Error (MSE)** using `sklearn.metrics.mean_squared_error`.\n",
    "5. **Non-numeric columns** should be dropped before scaling, as we're only scaling numeric features.\n",
    "6. Return a dictionary with MSE values for both scaling methods.\n",
    "\n",
    "---\n",
    "\n",
    "### **Example Input:**\n",
    "```python\n",
    "import pandas as pd\n",
    "\n",
    "data = pd.DataFrame({\n",
    "    'feature1': [100, 200, 300, 400, 500],\n",
    "    'feature2': [10, 20, 30, 40, 50],\n",
    "    'category': ['A', 'B', 'A', 'B', 'A'],  # Categorical feature (to be ignored)\n",
    "    'target': [5, 10, 15, 20, 25]  # Target variable\n",
    "})\n",
    "\n",
    "target_column = 'target'\n",
    "```\n",
    "\n",
    "---\n",
    "\n",
    "### **Example Output:**\n",
    "```python\n",
    "{\n",
    "    'minmax': 0.0,\n",
    "    'zscore': 0.0\n",
    "}\n",
    "```\n",
    "(In this simple dataset, the MSE might be `0.0`, but in real-world cases, different scaling methods could impact model performance.)\n",
    "\n",
    "---\n",
    "\n",
    "### **Hints:**\n",
    "1. Use `select_dtypes` to **filter numeric columns** for scaling.\n",
    "2. Drop the **target column** before scaling, as it should not be transformed.\n",
    "3. Use `MinMaxScaler` and `StandardScaler` from `sklearn.preprocessing` to scale features.\n",
    "4. Use `LinearRegression` from `sklearn.linear_model` to train and evaluate the model.\n",
    "5. Use `train_test_split` to split the data into training and testing sets.\n",
    "\n",
    "---"
   ]
  },
  {
   "cell_type": "markdown",
   "id": "52e1fb0c-a6a9-4544-9ddf-72007c77966d",
   "metadata": {},
   "source": [
    "# Solution"
   ]
  },
  {
   "cell_type": "code",
   "execution_count": 1,
   "id": "1f23c5d0-c0a2-4f70-b273-25a255b7bbd4",
   "metadata": {},
   "outputs": [],
   "source": [
    "import pandas as pd\n",
    "import numpy as np\n",
    "from sklearn.preprocessing import MinMaxScaler, StandardScaler\n",
    "from sklearn.model_selection import train_test_split\n",
    "from sklearn.linear_model import LinearRegression\n",
    "from sklearn.metrics import mean_squared_error"
   ]
  },
  {
   "cell_type": "code",
   "execution_count": 2,
   "id": "afd65e93-eb3d-448f-af8e-7486a234e41c",
   "metadata": {},
   "outputs": [],
   "source": [
    "def compare_scaling_methods(data: pd.DataFrame, target_column: str) -> dict:\n",
    "    \"\"\"\n",
    "    Compare the impact of Min-Max Scaling and Standard Scaling on Linear Regression performance.\n",
    "\n",
    "    Args:\n",
    "    data (pd.DataFrame): The dataset containing both numerical and categorical features.\n",
    "    target_column (str): The column name of the target variable.\n",
    "\n",
    "    Returns:\n",
    "    dict: A dictionary containing MSE values for 'minmax' and 'zscore' scaling methods.\n",
    "    \"\"\"\n",
    "    # Step 1: Select numeric features and separate target variable\n",
    "    numeric_cols = data.select_dtypes(include=['number']).columns.tolist()\n",
    "    numeric_cols.remove(target_column)  # Remove target column from features\n",
    "\n",
    "    X = data[numeric_cols]  # Feature matrix\n",
    "    y = data[target_column]  # Target variable\n",
    "\n",
    "    # Step 2: Split data into training and testing sets (80-20 split)\n",
    "    X_train, X_test, y_train, y_test = train_test_split(X, y, test_size=0.2, random_state=42)\n",
    "\n",
    "    # Step 3: Function to scale, train, and evaluate model\n",
    "    def train_and_evaluate(scaler):\n",
    "        \"\"\"Scales the data using the given scaler, trains a Linear Regression model, and computes MSE.\"\"\"\n",
    "        X_train_scaled = scaler.fit_transform(X_train)\n",
    "        X_test_scaled = scaler.transform(X_test)\n",
    "\n",
    "        model = LinearRegression()\n",
    "        model.fit(X_train_scaled, y_train)\n",
    "        y_pred = model.predict(X_test_scaled)\n",
    "\n",
    "        return mean_squared_error(y_test, y_pred)\n",
    "\n",
    "    # Step 4: Train and evaluate models using both scalers\n",
    "    mse_results = {\n",
    "        'minmax': train_and_evaluate(MinMaxScaler()),\n",
    "        'zscore': train_and_evaluate(StandardScaler())\n",
    "    }\n",
    "\n",
    "    return mse_results"
   ]
  },
  {
   "cell_type": "markdown",
   "id": "f312135c-c311-4031-9059-5fa82229374a",
   "metadata": {},
   "source": [
    "### **Time and Space Complexity:**\n",
    "- **Time Complexity:**\n",
    "  - `train_test_split`: $ O(n) $\n",
    "  - `MinMaxScaler` / `StandardScaler`: $ O(n \\cdot m) $ (where $ m $ is the number of features)\n",
    "  - `LinearRegression.fit()`: $ O(n \\cdot m^2) $ (depends on the solver)\n",
    "  - `LinearRegression.predict()`: $ O(n \\cdot m) $\n",
    "  - **Overall: $ O(n \\cdot m^2) $** (dominated by training step)\n",
    "\n",
    "- **Space Complexity:**\n",
    "  - Stores scaled copies of `X_train` and `X_test` $ O(n \\cdot m) $\n",
    "  - **Overall: $ O(n \\cdot m) $**\n",
    "\n",
    "---"
   ]
  },
  {
   "cell_type": "markdown",
   "id": "06641719-8c3f-4592-b9c6-62dc7d89e67e",
   "metadata": {},
   "source": [
    "### **Note: target variables do not need to be scaled**\n",
    "\n",
    "Here's why:\n",
    "- In **regression problems**, the target variable represents the value we want to predict. Scaling the target isn't necessary unless the target values have **very large magnitude differences** or if we're using a model that is sensitive to different scales.\n",
    "- **Linear Regression is scale-invariant with respect to the target**, meaning scaling `y` does not impact the final predictions in a meaningful way.\n",
    "- We scale only the features (`X`) because:\n",
    "  - Many machine learning algorithms (e.g., **gradient-based optimizers, distance-based models**) work better when the features are on the same scale.\n",
    "  - Linear Regression can be sensitive to large magnitude differences in feature values.\n",
    "\n",
    "✅ **When should you scale the target (`y`)?**\n",
    "- If the target values have very large ranges, you might scale them (e.g., in **Neural Networks, SVR, Gradient Boosting**).\n",
    "- You can use `MinMaxScaler` or `StandardScaler` on `y` if needed, but this is uncommon in Linear Regression.\n",
    "\n",
    "---"
   ]
  },
  {
   "cell_type": "markdown",
   "id": "ee88668c-1619-4827-ada2-c5b0191a7307",
   "metadata": {},
   "source": [
    "# Example Execution 1"
   ]
  },
  {
   "cell_type": "code",
   "execution_count": 3,
   "id": "cf1a32b1-bc4b-48ac-acad-55004261e958",
   "metadata": {},
   "outputs": [],
   "source": [
    "data = pd.DataFrame({\n",
    "    'feature1': [100, 200, 300, 400, 500],\n",
    "    'feature2': [10, 20, 30, 40, 50],\n",
    "    'category': ['A', 'B', 'A', 'B', 'A'],  # Categorical feature (to be ignored)\n",
    "    'target': [5, 10, 15, 20, 25]  # Target variable\n",
    "})\n",
    "\n",
    "target_column = 'target'"
   ]
  },
  {
   "cell_type": "code",
   "execution_count": 4,
   "id": "1b77980f-2184-42d2-879c-1bbf11c9f356",
   "metadata": {},
   "outputs": [
    {
     "data": {
      "text/html": [
       "<div>\n",
       "<style scoped>\n",
       "    .dataframe tbody tr th:only-of-type {\n",
       "        vertical-align: middle;\n",
       "    }\n",
       "\n",
       "    .dataframe tbody tr th {\n",
       "        vertical-align: top;\n",
       "    }\n",
       "\n",
       "    .dataframe thead th {\n",
       "        text-align: right;\n",
       "    }\n",
       "</style>\n",
       "<table border=\"1\" class=\"dataframe\">\n",
       "  <thead>\n",
       "    <tr style=\"text-align: right;\">\n",
       "      <th></th>\n",
       "      <th>feature1</th>\n",
       "      <th>feature2</th>\n",
       "      <th>category</th>\n",
       "      <th>target</th>\n",
       "    </tr>\n",
       "  </thead>\n",
       "  <tbody>\n",
       "    <tr>\n",
       "      <th>0</th>\n",
       "      <td>100</td>\n",
       "      <td>10</td>\n",
       "      <td>A</td>\n",
       "      <td>5</td>\n",
       "    </tr>\n",
       "    <tr>\n",
       "      <th>1</th>\n",
       "      <td>200</td>\n",
       "      <td>20</td>\n",
       "      <td>B</td>\n",
       "      <td>10</td>\n",
       "    </tr>\n",
       "    <tr>\n",
       "      <th>2</th>\n",
       "      <td>300</td>\n",
       "      <td>30</td>\n",
       "      <td>A</td>\n",
       "      <td>15</td>\n",
       "    </tr>\n",
       "    <tr>\n",
       "      <th>3</th>\n",
       "      <td>400</td>\n",
       "      <td>40</td>\n",
       "      <td>B</td>\n",
       "      <td>20</td>\n",
       "    </tr>\n",
       "    <tr>\n",
       "      <th>4</th>\n",
       "      <td>500</td>\n",
       "      <td>50</td>\n",
       "      <td>A</td>\n",
       "      <td>25</td>\n",
       "    </tr>\n",
       "  </tbody>\n",
       "</table>\n",
       "</div>"
      ],
      "text/plain": [
       "   feature1  feature2 category  target\n",
       "0       100        10        A       5\n",
       "1       200        20        B      10\n",
       "2       300        30        A      15\n",
       "3       400        40        B      20\n",
       "4       500        50        A      25"
      ]
     },
     "execution_count": 4,
     "metadata": {},
     "output_type": "execute_result"
    }
   ],
   "source": [
    "data"
   ]
  },
  {
   "cell_type": "code",
   "execution_count": 5,
   "id": "175e3d3b-738b-4967-9b2d-1e8cd671f91f",
   "metadata": {},
   "outputs": [
    {
     "data": {
      "text/plain": [
       "{'minmax': 3.1554436208840472e-30, 'zscore': 3.1554436208840472e-30}"
      ]
     },
     "execution_count": 5,
     "metadata": {},
     "output_type": "execute_result"
    }
   ],
   "source": [
    "compare_scaling_methods(data, 'target')"
   ]
  },
  {
   "cell_type": "markdown",
   "id": "69e7f661-05ad-4500-9bdd-516457aee214",
   "metadata": {},
   "source": [
    "In **this specific dataset**, both **MinMaxScaler** and **StandardScaler** produce identical results with a **Mean Squared Error (MSE) of 0.0**.  \n",
    "\n",
    "**Why?**\n",
    "- The dataset is **perfectly linear**:  \n",
    "  - `feature1` and `feature2` are scaled versions of each other.\n",
    "  - The target `y` follows a simple linear equation.\n",
    "  - Since Linear Regression models linear relationships exactly, it finds a perfect fit, and MSE becomes **0.0**.\n",
    "\n",
    "However, in real-world cases, **MinMaxScaler and StandardScaler will produce different results**. The results would differ **when the data has outliers** or **features with different distributions**."
   ]
  },
  {
   "cell_type": "markdown",
   "id": "646ea87a-8376-47c8-820a-3f282eeebc0f",
   "metadata": {},
   "source": [
    "# Example Execution 2 (with outliers)"
   ]
  },
  {
   "cell_type": "code",
   "execution_count": 6,
   "id": "78676697-3e91-4644-8ec7-9785ab5f9a14",
   "metadata": {},
   "outputs": [],
   "source": [
    "data = pd.DataFrame({\n",
    "    'feature1': [1, 2, 3, 4, 1000],  # Large outlier in last value\n",
    "    'feature2': [10, 20, 30, 40, 50],\n",
    "    'category': ['A', 'B', 'A', 'B', 'A'],  # Categorical feature (to be ignored)\n",
    "    'target': [5, 10, 15, 20, 25]\n",
    "})"
   ]
  },
  {
   "cell_type": "code",
   "execution_count": 7,
   "id": "57c6cb77-0329-41be-968d-eb0608467801",
   "metadata": {},
   "outputs": [
    {
     "data": {
      "text/plain": [
       "{'minmax': 3.1554436208840472e-30, 'zscore': 0.0}"
      ]
     },
     "execution_count": 7,
     "metadata": {},
     "output_type": "execute_result"
    }
   ],
   "source": [
    "compare_scaling_methods(data, 'target')"
   ]
  },
  {
   "cell_type": "markdown",
   "id": "bc151b96-a320-422f-8d15-c9e5f1220b22",
   "metadata": {},
   "source": [
    "🔹 **Effect of the outlier:**\n",
    "- `MinMaxScaler` will **compress all other values close to 0**, because `1000` is the max.\n",
    "- `StandardScaler` will **keep the distribution of values**, handling the outlier better."
   ]
  },
  {
   "cell_type": "markdown",
   "id": "379f7004-e457-4318-850e-db1e3a893c78",
   "metadata": {},
   "source": [
    "# Example Execution 3 (with different distribution in features)"
   ]
  },
  {
   "cell_type": "code",
   "execution_count": 8,
   "id": "a8f80f0f-f959-488c-92d2-d188abcc4f93",
   "metadata": {},
   "outputs": [],
   "source": [
    "import numpy as np"
   ]
  },
  {
   "cell_type": "code",
   "execution_count": 9,
   "id": "0ca8f242-9015-400a-94ea-1bd748814281",
   "metadata": {},
   "outputs": [],
   "source": [
    "data = pd.DataFrame({\n",
    "    'feature1': np.random.normal(50, 10, 5),  # Normal distribution\n",
    "    'feature2': np.random.exponential(10, 5),  # Exponential distribution\n",
    "    'category': ['A', 'B', 'A', 'B', 'A'],  # Categorical feature (to be ignored)\n",
    "    'target': [5, 10, 15, 20, 25]\n",
    "})"
   ]
  },
  {
   "cell_type": "code",
   "execution_count": 10,
   "id": "848836a5-7150-4423-8b0a-cf20630902d5",
   "metadata": {},
   "outputs": [
    {
     "data": {
      "text/plain": [
       "{'minmax': 122.78079535758108, 'zscore': 122.78079535758108}"
      ]
     },
     "execution_count": 10,
     "metadata": {},
     "output_type": "execute_result"
    }
   ],
   "source": [
    "compare_scaling_methods(data, 'target')"
   ]
  },
  {
   "cell_type": "markdown",
   "id": "84a69d42-cabc-4741-9d2f-ea046787b4fc",
   "metadata": {},
   "source": [
    "### **Summary of Key Differences**\n",
    "| Feature | **MinMaxScaler** | **StandardScaler** |\n",
    "|---------|----------------|------------------|\n",
    "| **Formula** | $ X' = \\frac{X - X_{\\text{min}}}{X_{\\text{max}} - X_{\\text{min}}} $ | $ X' = \\frac{X - \\mu}{\\sigma} $ |\n",
    "| **Range** | Scales between [0, 1] | Mean = 0, Std = 1 |\n",
    "| **Sensitive to Outliers?** | ✅ Yes | ❌ No |\n",
    "| **Changes Distribution?** | ❌ No | ✅ Yes (transforms closer to normal) |\n",
    "| **Use Cases** | When feature scales vary a lot but no outliers | When normality is preferred and outliers exist |\n",
    "\n",
    "---"
   ]
  },
  {
   "cell_type": "markdown",
   "id": "f823f046-496f-484d-bf02-cda47e805272",
   "metadata": {},
   "source": [
    "# Alternative Solution 1 (modular)"
   ]
  },
  {
   "cell_type": "code",
   "execution_count": 11,
   "id": "c46df211-0eb6-4969-a742-a6b255ab804e",
   "metadata": {},
   "outputs": [],
   "source": [
    "import pandas as pd\n",
    "from sklearn.preprocessing import MinMaxScaler, StandardScaler\n",
    "from sklearn.linear_model import LinearRegression\n",
    "from sklearn.metrics import mean_squared_error\n",
    "from sklearn.model_selection import train_test_split\n",
    "\n",
    "def scale_features(X_train: pd.DataFrame, X_test: pd.DataFrame, method: str):\n",
    "    \"\"\"Fits scaler on X_train and transforms both X_train and X_test.\"\"\"\n",
    "    if method not in ['minmax', 'zscore']:\n",
    "        raise ValueError(\"Method must be 'minmax' or 'zscore'\")\n",
    "    \n",
    "    scaler = MinMaxScaler() if method == 'minmax' else StandardScaler()\n",
    "    \n",
    "    # Fit on training data and transform both train & test sets\n",
    "    X_train_scaled = pd.DataFrame(scaler.fit_transform(X_train), columns=X_train.columns)\n",
    "    X_test_scaled = pd.DataFrame(scaler.transform(X_test), columns=X_test.columns)\n",
    "\n",
    "    return X_train_scaled, X_test_scaled\n",
    "\n",
    "def train_linear_model(X_train, y_train, X_test, y_test):\n",
    "    \"\"\"Trains a linear model and returns the MSE.\"\"\"\n",
    "    model = LinearRegression()\n",
    "    model.fit(X_train, y_train)\n",
    "    y_pred = model.predict(X_test)\n",
    "    return mean_squared_error(y_test, y_pred)\n",
    "\n",
    "def compare_scaling_methods(data: pd.DataFrame, target_column: str) -> dict:\n",
    "    \"\"\"Compares MinMax and Z-Score scaling methods.\"\"\"\n",
    "    # Select numeric columns only\n",
    "    numeric_cols = data.select_dtypes(include=['number']).columns.tolist()\n",
    "    numeric_cols.remove(target_column)\n",
    "\n",
    "    X = data[numeric_cols]\n",
    "    y = data[target_column]\n",
    "\n",
    "    X_train, X_test, y_train, y_test = train_test_split(X, y, test_size=0.2, random_state=42)\n",
    "\n",
    "    # Corrected scaling method: Fit only on X_train, transform both X_train and X_test\n",
    "    X_train_minmax, X_test_minmax = scale_features(X_train, X_test, 'minmax')\n",
    "    X_train_zscore, X_test_zscore = scale_features(X_train, X_test, 'zscore')\n",
    "\n",
    "    # Train and evaluate both scaling methods\n",
    "    mse_results = {\n",
    "        'minmax': train_linear_model(X_train_minmax, y_train, X_test_minmax, y_test),\n",
    "        'zscore': train_linear_model(X_train_zscore, y_train, X_test_zscore, y_test)\n",
    "    }\n",
    "\n",
    "    return mse_results\n"
   ]
  },
  {
   "cell_type": "markdown",
   "id": "62e6c222-ecbe-44b4-ad20-0b2a9e164084",
   "metadata": {},
   "source": [
    "# Alternative Solution 2 (using pipelines, best for production)"
   ]
  },
  {
   "cell_type": "code",
   "execution_count": 12,
   "id": "fd5222f4-490b-4910-9777-a07e1c5b8b1c",
   "metadata": {},
   "outputs": [],
   "source": [
    "from sklearn.pipeline import Pipeline\n",
    "\n",
    "def create_pipeline(scaler):\n",
    "    \"\"\"Creates a pipeline that scales data and applies Linear Regression.\"\"\"\n",
    "    return Pipeline([\n",
    "        ('scaler', scaler),\n",
    "        ('regressor', LinearRegression())\n",
    "    ])\n",
    "\n",
    "def compare_pipeline_methods(data: pd.DataFrame, target_column: str) -> dict:\n",
    "    \"\"\"Compares MinMax and Z-Score scaling with pipelines.\"\"\"\n",
    "    numeric_cols = data.select_dtypes(include=['number']).columns.tolist()\n",
    "    numeric_cols.remove(target_column)\n",
    "\n",
    "    X = data[numeric_cols]\n",
    "    y = data[target_column]\n",
    "\n",
    "    X_train, X_test, y_train, y_test = train_test_split(X, y, test_size=0.2, random_state=42)\n",
    "\n",
    "    mse_results = {}\n",
    "    for method, scaler in [('minmax', MinMaxScaler()), ('zscore', StandardScaler())]:\n",
    "        pipeline = create_pipeline(scaler)\n",
    "        pipeline.fit(X_train, y_train)\n",
    "        y_pred = pipeline.predict(X_test)\n",
    "        mse_results[method] = mean_squared_error(y_test, y_pred)\n",
    "\n",
    "    return mse_results\n"
   ]
  },
  {
   "cell_type": "code",
   "execution_count": null,
   "id": "49311e88-62f2-4d29-92bc-8176d5a87b34",
   "metadata": {},
   "outputs": [],
   "source": []
  }
 ],
 "metadata": {
  "kernelspec": {
   "display_name": "Python 3 (ipykernel)",
   "language": "python",
   "name": "python3"
  },
  "language_info": {
   "codemirror_mode": {
    "name": "ipython",
    "version": 3
   },
   "file_extension": ".py",
   "mimetype": "text/x-python",
   "name": "python",
   "nbconvert_exporter": "python",
   "pygments_lexer": "ipython3",
   "version": "3.12.4"
  }
 },
 "nbformat": 4,
 "nbformat_minor": 5
}
