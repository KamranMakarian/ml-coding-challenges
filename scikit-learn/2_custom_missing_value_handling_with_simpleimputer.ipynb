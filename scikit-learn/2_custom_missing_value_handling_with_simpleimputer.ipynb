{
 "cells": [
  {
   "cell_type": "markdown",
   "id": "f0106a4c-6653-4091-8d39-3dafff29ba2e",
   "metadata": {},
   "source": [
    "### Challenge 2: Custom Missing Value Handling with SimpleImputer\n",
    "\n",
    "**Topic:** Handling Missing Values (SimpleImputer)  \n",
    "\n",
    "**Problem Description:**  \n",
    "You are given a dataset represented as a Pandas DataFrame. Some columns may contain missing values (`NaN`). Your task is to write a function to handle missing values with the following rules:\n",
    "1. Impute missing values in numeric columns using the **mean** of the column.\n",
    "2. Impute missing values in categorical columns (non-numeric) using the **most frequent value**.\n",
    "3. Drop any columns where more than **40%** of the values are missing.\n",
    "4. Return the cleaned dataset.\n",
    "\n",
    "**Function Signature:**  \n",
    "```python\n",
    "def handle_missing_values(data: pd.DataFrame) -> pd.DataFrame:\n",
    "    \"\"\"\n",
    "    Handle missing values in the dataset with custom rules.\n",
    "\n",
    "    Args:\n",
    "    data (pd.DataFrame): Input dataset with missing values.\n",
    "\n",
    "    Returns:\n",
    "    pd.DataFrame: Cleaned dataset with missing values handled.\n",
    "    \"\"\"\n",
    "```\n",
    "\n",
    "**Constraints:**\n",
    "1. The input DataFrame can have both numeric and non-numeric columns.\n",
    "2. If all columns are dropped due to missing value thresholds, return an empty DataFrame.\n",
    "3. The column types should remain consistent with the input dataset.\n",
    "\n",
    "**Example Input:**  \n",
    "```python\n",
    "import pandas as pd\n",
    "import numpy as np\n",
    "\n",
    "data = pd.DataFrame({\n",
    "    'A': [1, 2, np.nan, 4],\n",
    "    'B': [np.nan, 2, np.nan, 4],\n",
    "    'C': ['cat', 'dog', np.nan, 'dog'],\n",
    "    'D': [np.nan, np.nan, np.nan, np.nan]\n",
    "})\n",
    "```\n",
    "\n",
    "**Example Output:**  \n",
    "For the above input, the function should return:  \n",
    "```python\n",
    "     A    B    C\n",
    "0  1.0  3.0  cat\n",
    "1  2.0  2.0  dog\n",
    "2  2.333333  3.0  dog\n",
    "3  4.0  4.0  dog\n",
    "```\n",
    "\n",
    "**Hints:**  \n",
    "1. Use `SimpleImputer` from `sklearn.impute` to handle imputations for numeric and categorical columns.\n",
    "2. Use Pandas operations to determine the percentage of missing values in each column and filter columns accordingly.\n",
    "3. Be cautious about type preservation when applying transformations.\n",
    "---"
   ]
  },
  {
   "cell_type": "markdown",
   "id": "99333d79-0bff-4ff6-9313-108651c63b8f",
   "metadata": {},
   "source": [
    "# Solution"
   ]
  },
  {
   "cell_type": "code",
   "execution_count": 1,
   "id": "47fe707f-279f-4d4a-bcc9-16029a81c345",
   "metadata": {},
   "outputs": [],
   "source": [
    "import pandas as pd\n",
    "from sklearn.impute import SimpleImputer\n",
    "\n",
    "def handle_missing_values(data: pd.DataFrame) -> pd.DataFrame:\n",
    "    \"\"\"\n",
    "    Handle missing values in the dataset with custom rules.\n",
    "\n",
    "    Args:\n",
    "    data (pd.DataFrame): Input dataset with missing values.\n",
    "\n",
    "    Returns:\n",
    "    pd.DataFrame: Cleaned dataset with missing values handled.\n",
    "    \"\"\"\n",
    "    # Step 1: Drop columns where more than 50% of values are missing\n",
    "    threshold = len(data) * 0.6\n",
    "    data = data.dropna(thresh=threshold, axis=1).copy()\n",
    "\n",
    "    # Step 2: Identify numeric and non-numeric columns\n",
    "    numeric_cols = data.select_dtypes(include='number').columns\n",
    "    non_numeric_cols = data.select_dtypes(exclude='number').columns\n",
    "\n",
    "    # Step 3: Impute numeric columns with mean\n",
    "    if not numeric_cols.empty:\n",
    "        imputer_num = SimpleImputer(strategy='mean')\n",
    "        data[numeric_cols] = imputer_num.fit_transform(data[numeric_cols])\n",
    "\n",
    "    # Step 4: Impute non-numeric columns with most frequent value\n",
    "    if not non_numeric_cols.empty:\n",
    "        imputer_cat = SimpleImputer(strategy='most_frequent')\n",
    "        data[non_numeric_cols] = imputer_cat.fit_transform(data[non_numeric_cols])\n",
    "\n",
    "    # Return the cleaned dataset\n",
    "    return data\n"
   ]
  },
  {
   "cell_type": "markdown",
   "id": "e8d9de65-6aac-4e39-8d50-b50a39519141",
   "metadata": {},
   "source": [
    "### **Time and Space Complexity:**\n",
    "\n",
    "1. **Time Complexity:**\n",
    "   - Dropping columns: $O(m \\cdot n)$, where $m$ is the number of rows and $n$ is the number of columns.\n",
    "   - Imputation:\n",
    "     - Numeric columns: $O(k \\cdot m)$, where $k$ is the number of numeric columns.\n",
    "     - Non-numeric columns: $O(l \\cdot m)$, where $l$ is the number of non-numeric columns.\n",
    "   - Overall: $O(m \\cdot n)$.\n",
    "\n",
    "2. **Space Complexity:**\n",
    "   - Imputer objects and temporary transformed arrays are $O(m \\cdot n)$, depending on the DataFrame's size.\n",
    "\n",
    "---"
   ]
  },
  {
   "cell_type": "markdown",
   "id": "46481e87-b1e3-462f-afa8-cb42b856f579",
   "metadata": {},
   "source": [
    "# Example Implementation:"
   ]
  },
  {
   "cell_type": "code",
   "execution_count": 2,
   "id": "436a4147-3e74-4aaa-a791-32e9e7ca26dd",
   "metadata": {},
   "outputs": [],
   "source": [
    "import pandas as pd\n",
    "import numpy as np"
   ]
  },
  {
   "cell_type": "code",
   "execution_count": 3,
   "id": "4ec44f98-9f95-4f09-9474-dd4ae661c5f7",
   "metadata": {},
   "outputs": [],
   "source": [
    "data = pd.DataFrame({\n",
    "    'A': [1, 2, np.nan, 4],\n",
    "    'B': [np.nan, 2, np.nan, 4],\n",
    "    'C': ['cat', 'dog', np.nan, 'dog'],\n",
    "    'D': [3, 4, np.nan, 6]\n",
    "})"
   ]
  },
  {
   "cell_type": "code",
   "execution_count": 4,
   "id": "cc3680b1-ccac-480a-a463-ca72de76ff56",
   "metadata": {},
   "outputs": [
    {
     "data": {
      "text/html": [
       "<div>\n",
       "<style scoped>\n",
       "    .dataframe tbody tr th:only-of-type {\n",
       "        vertical-align: middle;\n",
       "    }\n",
       "\n",
       "    .dataframe tbody tr th {\n",
       "        vertical-align: top;\n",
       "    }\n",
       "\n",
       "    .dataframe thead th {\n",
       "        text-align: right;\n",
       "    }\n",
       "</style>\n",
       "<table border=\"1\" class=\"dataframe\">\n",
       "  <thead>\n",
       "    <tr style=\"text-align: right;\">\n",
       "      <th></th>\n",
       "      <th>A</th>\n",
       "      <th>B</th>\n",
       "      <th>C</th>\n",
       "      <th>D</th>\n",
       "    </tr>\n",
       "  </thead>\n",
       "  <tbody>\n",
       "    <tr>\n",
       "      <th>0</th>\n",
       "      <td>1.0</td>\n",
       "      <td>NaN</td>\n",
       "      <td>cat</td>\n",
       "      <td>3.0</td>\n",
       "    </tr>\n",
       "    <tr>\n",
       "      <th>1</th>\n",
       "      <td>2.0</td>\n",
       "      <td>2.0</td>\n",
       "      <td>dog</td>\n",
       "      <td>4.0</td>\n",
       "    </tr>\n",
       "    <tr>\n",
       "      <th>2</th>\n",
       "      <td>NaN</td>\n",
       "      <td>NaN</td>\n",
       "      <td>NaN</td>\n",
       "      <td>NaN</td>\n",
       "    </tr>\n",
       "    <tr>\n",
       "      <th>3</th>\n",
       "      <td>4.0</td>\n",
       "      <td>4.0</td>\n",
       "      <td>dog</td>\n",
       "      <td>6.0</td>\n",
       "    </tr>\n",
       "  </tbody>\n",
       "</table>\n",
       "</div>"
      ],
      "text/plain": [
       "     A    B    C    D\n",
       "0  1.0  NaN  cat  3.0\n",
       "1  2.0  2.0  dog  4.0\n",
       "2  NaN  NaN  NaN  NaN\n",
       "3  4.0  4.0  dog  6.0"
      ]
     },
     "execution_count": 4,
     "metadata": {},
     "output_type": "execute_result"
    }
   ],
   "source": [
    "data"
   ]
  },
  {
   "cell_type": "code",
   "execution_count": 5,
   "id": "d59e6602-6f2b-4f4a-8030-b2a6d189b9ac",
   "metadata": {},
   "outputs": [],
   "source": [
    "imputed_data = handle_missing_values(data)"
   ]
  },
  {
   "cell_type": "code",
   "execution_count": 6,
   "id": "cfa29715-5e29-4358-b06d-6f3e4979e76f",
   "metadata": {},
   "outputs": [
    {
     "data": {
      "text/html": [
       "<div>\n",
       "<style scoped>\n",
       "    .dataframe tbody tr th:only-of-type {\n",
       "        vertical-align: middle;\n",
       "    }\n",
       "\n",
       "    .dataframe tbody tr th {\n",
       "        vertical-align: top;\n",
       "    }\n",
       "\n",
       "    .dataframe thead th {\n",
       "        text-align: right;\n",
       "    }\n",
       "</style>\n",
       "<table border=\"1\" class=\"dataframe\">\n",
       "  <thead>\n",
       "    <tr style=\"text-align: right;\">\n",
       "      <th></th>\n",
       "      <th>A</th>\n",
       "      <th>C</th>\n",
       "      <th>D</th>\n",
       "    </tr>\n",
       "  </thead>\n",
       "  <tbody>\n",
       "    <tr>\n",
       "      <th>0</th>\n",
       "      <td>1.000000</td>\n",
       "      <td>cat</td>\n",
       "      <td>3.000000</td>\n",
       "    </tr>\n",
       "    <tr>\n",
       "      <th>1</th>\n",
       "      <td>2.000000</td>\n",
       "      <td>dog</td>\n",
       "      <td>4.000000</td>\n",
       "    </tr>\n",
       "    <tr>\n",
       "      <th>2</th>\n",
       "      <td>2.333333</td>\n",
       "      <td>dog</td>\n",
       "      <td>4.333333</td>\n",
       "    </tr>\n",
       "    <tr>\n",
       "      <th>3</th>\n",
       "      <td>4.000000</td>\n",
       "      <td>dog</td>\n",
       "      <td>6.000000</td>\n",
       "    </tr>\n",
       "  </tbody>\n",
       "</table>\n",
       "</div>"
      ],
      "text/plain": [
       "          A    C         D\n",
       "0  1.000000  cat  3.000000\n",
       "1  2.000000  dog  4.000000\n",
       "2  2.333333  dog  4.333333\n",
       "3  4.000000  dog  6.000000"
      ]
     },
     "execution_count": 6,
     "metadata": {},
     "output_type": "execute_result"
    }
   ],
   "source": [
    "imputed_data"
   ]
  }
 ],
 "metadata": {
  "kernelspec": {
   "display_name": "Python 3 (ipykernel)",
   "language": "python",
   "name": "python3"
  },
  "language_info": {
   "codemirror_mode": {
    "name": "ipython",
    "version": 3
   },
   "file_extension": ".py",
   "mimetype": "text/x-python",
   "name": "python",
   "nbconvert_exporter": "python",
   "pygments_lexer": "ipython3",
   "version": "3.12.4"
  }
 },
 "nbformat": 4,
 "nbformat_minor": 5
}
