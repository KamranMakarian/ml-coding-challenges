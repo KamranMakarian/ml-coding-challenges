{
 "cells": [
  {
   "cell_type": "markdown",
   "id": "3b0370e0-09ae-4c58-b875-109e9d9cfe2f",
   "metadata": {},
   "source": [
    "# **Challenge #3: Basic Tensor Operations in TensorFlow**  \n",
    "#### **Topic**: Perform Reshaping, Transposing, Broadcasting, and Element-Wise Operations  \n",
    "\n",
    "---\n",
    "\n",
    "### **Problem Description**:\n",
    "In this challenge, you will demonstrate your understanding of **basic tensor operations** in TensorFlow. Your tasks include:\n",
    "\n",
    "1. **Reshaping a tensor** from **shape `(4, 3)` to `(2, 6)`**.\n",
    "2. **Transposing a tensor** to switch its rows and columns.\n",
    "3. **Applying broadcasting** to perform arithmetic operations between tensors of **incompatible shapes**.\n",
    "4. **Executing element-wise operations**, such as **addition**, **subtraction**, **multiplication**, and **division** on tensors.\n",
    "\n",
    "---\n",
    "\n",
    "### **Constraints**:\n",
    "- All tensors must be of **dtype `float32`**.\n",
    "- Use only **TensorFlow functions** for all operations (`tf.reshape()`, `tf.transpose()`, `tf.add()`, etc.).\n",
    "- If an operation fails due to **shape incompatibility**, your code should **gracefully handle the error**.\n",
    "\n",
    "---\n",
    "\n",
    "### **Example Input & Output**\n",
    "\n",
    "#### **Example 1: Reshaping a Tensor**  \n",
    "##### **Input**:\n",
    "```python\n",
    "# Given this tensor:\n",
    "tensor = [[1, 2, 3], [4, 5, 6], [7, 8, 9], [10, 11, 12]]\n",
    "\n",
    "# Reshape it to (2, 6).\n",
    "```\n",
    "##### **Expected Output**:\n",
    "```\n",
    "Reshaped Tensor:\n",
    "[[ 1.  2.  3.  4.  5.  6.]\n",
    " [ 7.  8.  9. 10. 11. 12.]]\n",
    "```\n",
    "\n",
    "---\n",
    "\n",
    "#### **Example 2: Transposing a Tensor**  \n",
    "##### **Input**:\n",
    "```python\n",
    "# Given this tensor:\n",
    "tensor = [[1, 2], [3, 4], [5, 6]]\n",
    "\n",
    "# Transpose the tensor.\n",
    "```\n",
    "##### **Expected Output**:\n",
    "```\n",
    "Transposed Tensor:\n",
    "[[1. 3. 5.]\n",
    " [2. 4. 6.]]\n",
    "```\n",
    "\n",
    "---\n",
    "\n",
    "#### **Example 3: Broadcasting Example**  \n",
    "##### **Input**:\n",
    "```python\n",
    "# Given these tensors:\n",
    "tensor = [[1, 2, 3], [4, 5, 6]]\n",
    "scalar = 10.0\n",
    "\n",
    "# Add the scalar to the tensor using broadcasting.\n",
    "```\n",
    "##### **Expected Output**:\n",
    "```\n",
    "Broadcasted Addition:\n",
    "[[11. 12. 13.]\n",
    " [14. 15. 16.]]\n",
    "```\n",
    "\n",
    "---\n",
    "\n",
    "#### **Example 4: Element-Wise Operations**  \n",
    "##### **Input**:\n",
    "```python\n",
    "# Given these tensors:\n",
    "tensorA = [[1, 2], [3, 4]]\n",
    "tensorB = [[5, 6], [7, 8]]\n",
    "\n",
    "# Perform element-wise addition, subtraction, multiplication, and division.\n",
    "```\n",
    "##### **Expected Output**:\n",
    "```\n",
    "Addition:\n",
    "[[ 6.  8.]\n",
    " [10. 12.]]\n",
    "\n",
    "Subtraction:\n",
    "[[-4. -4.]\n",
    " [-4. -4.]]\n",
    "\n",
    "Multiplication:\n",
    "[[ 5. 12.]\n",
    " [21. 32.]]\n",
    "\n",
    "Division:\n",
    "[[0.2        0.33333334]\n",
    " [0.42857143 0.5       ]]\n",
    "```\n",
    "\n",
    "---\n",
    "\n",
    "### **Hints**:\n",
    "- Use `tf.reshape()` to change the shape of a tensor.\n",
    "- Use `tf.transpose()` to switch rows and columns.\n",
    "- Apply broadcasting by using `tf.add()` with tensors of different shapes.\n",
    "- Perform element-wise operations using `tf.add()`, `tf.subtract()`, `tf.multiply()`, and `tf.divide()`.\n",
    "\n",
    "---\n"
   ]
  },
  {
   "cell_type": "markdown",
   "id": "652b3fa2-9955-4b23-9d28-97fa74a2d30e",
   "metadata": {},
   "source": [
    "# Solution"
   ]
  },
  {
   "cell_type": "code",
   "execution_count": 2,
   "id": "1eae88e6-cddc-4d51-abea-7ab694b2b9c0",
   "metadata": {},
   "outputs": [],
   "source": [
    "import tensorflow as tf"
   ]
  },
  {
   "cell_type": "code",
   "execution_count": 3,
   "id": "cff92844-a107-4f97-b331-c147df794090",
   "metadata": {},
   "outputs": [
    {
     "name": "stdout",
     "output_type": "stream",
     "text": [
      "Reshaped Tensor:\n",
      " [[ 1.  2.  3.  4.  5.  6.]\n",
      " [ 7.  8.  9. 10. 11. 12.]]\n"
     ]
    }
   ],
   "source": [
    "# 1. Reshaping a Tensor\n",
    "\n",
    "tensor = tf.constant([[1, 2, 3], [4, 5, 6], [7, 8, 9], [10, 11, 12]], dtype=tf.float32)\n",
    "\n",
    "reshaped_tensor = tf.reshape(tensor, (2, 6))\n",
    "print(\"Reshaped Tensor:\\n\", reshaped_tensor.numpy())"
   ]
  },
  {
   "cell_type": "code",
   "execution_count": 4,
   "id": "d4bc4134-5e58-4b95-a0e3-d0eb48efaf9e",
   "metadata": {},
   "outputs": [
    {
     "name": "stdout",
     "output_type": "stream",
     "text": [
      "Transposed Tensor:\n",
      " [[1. 3. 5.]\n",
      " [2. 4. 6.]]\n"
     ]
    }
   ],
   "source": [
    "# 2. Transposing a Tensor\n",
    "\n",
    "tensor = tf.constant([[1, 2], [3, 4], [5, 6]], dtype=tf.float32)\n",
    "\n",
    "transposed_tensor = tf.transpose(tensor)\n",
    "print(\"Transposed Tensor:\\n\", transposed_tensor.numpy())"
   ]
  },
  {
   "cell_type": "code",
   "execution_count": 5,
   "id": "a2a3220f-35fd-42e8-aa5d-a68cd3364a6b",
   "metadata": {},
   "outputs": [
    {
     "name": "stdout",
     "output_type": "stream",
     "text": [
      "Broadcasted Addition:\n",
      " [[11. 12. 13.]\n",
      " [14. 15. 16.]]\n"
     ]
    }
   ],
   "source": [
    "# 3. Broadcasting Example**\n",
    "\n",
    "tensor = tf.constant([[1, 2, 3], [4, 5, 6]], dtype=tf.float32)\n",
    "scalar = tf.constant(10.0, dtype=tf.float32)\n",
    "\n",
    "broadcasted_tensor = tf.add(tensor, scalar)\n",
    "print(\"Broadcasted Addition:\\n\", broadcasted_tensor.numpy())"
   ]
  },
  {
   "cell_type": "code",
   "execution_count": 6,
   "id": "d428afe9-bef2-4528-bee0-c28b76f73cb0",
   "metadata": {},
   "outputs": [
    {
     "name": "stdout",
     "output_type": "stream",
     "text": [
      "Addition:\n",
      " [[ 6.  8.]\n",
      " [10. 12.]]\n",
      "Subtraction:\n",
      " [[-4. -4.]\n",
      " [-4. -4.]]\n",
      "Multiplication:\n",
      " [[ 5. 12.]\n",
      " [21. 32.]]\n",
      "Division:\n",
      " [[0.2        0.33333334]\n",
      " [0.42857143 0.5       ]]\n"
     ]
    }
   ],
   "source": [
    "# 4. Element-Wise Operations**\n",
    "\n",
    "tensorA = tf.constant([[1, 2], [3, 4]], dtype=tf.float32)\n",
    "tensorB = tf.constant([[5, 6], [7, 8]], dtype=tf.float32)\n",
    "\n",
    "addition_result = tf.add(tensorA, tensorB)\n",
    "print(\"Addition:\\n\", addition_result.numpy())\n",
    "\n",
    "subtraction_result = tf.subtract(tensorA, tensorB)\n",
    "print(\"Subtraction:\\n\", subtraction_result.numpy())\n",
    "\n",
    "multiplication_result = tf.multiply(tensorA, tensorB)\n",
    "print(\"Multiplication:\\n\", multiplication_result.numpy())\n",
    "\n",
    "division_result = tf.divide(tensorA, tensorB)\n",
    "print(\"Division:\\n\", division_result.numpy())"
   ]
  },
  {
   "cell_type": "markdown",
   "id": "31947183-82af-4167-9960-201c978e9cb3",
   "metadata": {},
   "source": [
    "---\n",
    "\n",
    "## **Explanation**\n",
    "1. **Reshaping**: `tf.reshape()` changed the shape of a `(4, 3)` tensor to `(2, 6)` without altering the data.\n",
    "2. **Transposing**: `tf.transpose()` swapped the axes of a `(3, 2)` tensor to become `(2, 3)`.\n",
    "3. **Broadcasting**: `tf.add()` automatically expanded the scalar `10.0` to match the `(2, 3)` shape of the tensor.\n",
    "4. **Element-Wise Operations**:\n",
    "   - **Addition**: Performed element-by-element.\n",
    "   - **Subtraction**: Handled negative differences.\n",
    "   - **Multiplication**: Produced products of corresponding elements.\n",
    "   - **Division**: Managed float division, preserving the `float32` type.\n",
    "\n",
    "---\n",
    "\n",
    "## **Time Complexity Analysis**\n",
    "- **Reshaping (`tf.reshape()`)**: **O(1)** (only changes metadata).\n",
    "- **Transposing (`tf.transpose()`)**: **O(n)** where `n` is the number of elements.\n",
    "- **Broadcasting (`tf.add()`)**: **O(n)** for arithmetic operations, broadcasting itself is **O(1)**.\n",
    "- **Element-Wise Operations (`tf.add()`, `tf.subtract()`, `tf.multiply()`, `tf.divide()`)**: **O(n)**.\n",
    "\n",
    "---\n",
    "\n",
    "## **Edge Cases Handled**\n",
    "- The **reshaping** operation ensures that the **total number of elements** remains the same (`4 * 3 = 2 * 6`).\n",
    "- **Broadcasting** was demonstrated with **compatible shapes**, avoiding potential shape mismatch errors.\n",
    "- **Element-wise division** avoided division by zero, as all elements in `tensorB` are **non-zero**.\n",
    "\n",
    "---"
   ]
  }
 ],
 "metadata": {
  "kernelspec": {
   "display_name": "Python 3 (ipykernel)",
   "language": "python",
   "name": "python3"
  },
  "language_info": {
   "codemirror_mode": {
    "name": "ipython",
    "version": 3
   },
   "file_extension": ".py",
   "mimetype": "text/x-python",
   "name": "python",
   "nbconvert_exporter": "python",
   "pygments_lexer": "ipython3",
   "version": "3.12.4"
  }
 },
 "nbformat": 4,
 "nbformat_minor": 5
}
