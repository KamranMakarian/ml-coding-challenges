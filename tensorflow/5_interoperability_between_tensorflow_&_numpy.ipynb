{
 "cells": [
  {
   "cell_type": "markdown",
   "id": "7abba470-199c-4225-b2ff-332602666bea",
   "metadata": {},
   "source": [
    "# **Challenge #5: Interoperability Between TensorFlow Tensors and NumPy Arrays**  \n",
    "#### **Topic**: Convert Between **TensorFlow Tensors** and **NumPy Arrays**\n",
    "\n",
    "---\n",
    "\n",
    "### **Problem Description**:\n",
    "In this challenge, you will demonstrate how to seamlessly **convert data** between **TensorFlow tensors** and **NumPy arrays**. Your tasks include:\n",
    "\n",
    "1. **Convert a NumPy array to a TensorFlow tensor** using **`tf.convert_to_tensor()`**.\n",
    "2. **Create a tensor using TensorFlow** and convert it to a **NumPy array** using **`.numpy()`**.\n",
    "3. **Perform arithmetic operations** on the tensor and ensure the result can be converted back to a **NumPy array**.\n",
    "4. Verify that **changes to the original NumPy array** do not affect the **TensorFlow tensor** (and vice versa).\n",
    "\n",
    "---\n",
    "\n",
    "### **Constraints**:\n",
    "- Use only **TensorFlow** and **NumPy** functions (`tf.convert_to_tensor()`, `.numpy()`, `np.array()`, etc.).\n",
    "- Ensure all **tensors** are of **dtype `float32`**.\n",
    "- Properly **handle edge cases** where conversion might result in **data type mismatch**.\n",
    "\n",
    "---\n",
    "\n",
    "### **Example Input & Output**\n",
    "\n",
    "#### **Example 1: Convert NumPy Array to TensorFlow Tensor**  \n",
    "##### **Input**:\n",
    "```python\n",
    "# Given this NumPy array:\n",
    "import numpy as np\n",
    "np_array = np.array([[1, 2, 3], [4, 5, 6]], dtype=np.float32)\n",
    "\n",
    "# Convert it to a TensorFlow tensor.\n",
    "```\n",
    "##### **Expected Output**:\n",
    "```\n",
    "Tensor:\n",
    "[[1. 2. 3.]\n",
    " [4. 5. 6.]]\n",
    "Data Type: <dtype: 'float32'>\n",
    "```\n",
    "\n",
    "---\n",
    "\n",
    "#### **Example 2: Convert TensorFlow Tensor to NumPy Array**  \n",
    "##### **Input**:\n",
    "```python\n",
    "# Given this TensorFlow tensor:\n",
    "import tensorflow as tf\n",
    "tensor = tf.constant([[10.0, 20.0], [30.0, 40.0]], dtype=tf.float32)\n",
    "\n",
    "# Convert it to a NumPy array.\n",
    "```\n",
    "##### **Expected Output**:\n",
    "```\n",
    "NumPy Array:\n",
    "[[10. 20.]\n",
    " [30. 40.]]\n",
    "Data Type: float32\n",
    "```\n",
    "\n",
    "---\n",
    "\n",
    "#### **Example 3: Arithmetic Operations and Conversion**  \n",
    "##### **Input**:\n",
    "```python\n",
    "# Given these tensors:\n",
    "tensorA = tf.constant([1, 2, 3], dtype=tf.float32)\n",
    "tensorB = tf.constant([4, 5, 6], dtype=tf.float32)\n",
    "\n",
    "# Perform element-wise addition and convert the result to a NumPy array.\n",
    "```\n",
    "##### **Expected Output**:\n",
    "```\n",
    "Resulting NumPy Array:\n",
    "[5. 7. 9.]\n",
    "Data Type: float32\n",
    "```\n",
    "\n",
    "---\n",
    "\n",
    "#### **Example 4: Independent Memory Allocation**  \n",
    "##### **Input**:\n",
    "```python\n",
    "# Given this NumPy array:\n",
    "np_array = np.array([10, 20, 30], dtype=np.float32)\n",
    "\n",
    "# Convert it to a TensorFlow tensor and modify the original NumPy array.\n",
    "```\n",
    "##### **Expected Output**:\n",
    "```\n",
    "Modified NumPy Array:\n",
    "[100. 200. 300.]\n",
    "\n",
    "Tensor Remains Unchanged:\n",
    "[10. 20. 30.]\n",
    "```\n",
    "\n",
    "---\n",
    "\n",
    "### **Hints**:\n",
    "- Use **`.numpy()`** to convert a **TensorFlow tensor** to a **NumPy array**.\n",
    "- Use **`tf.convert_to_tensor()`** to convert a **NumPy array** to a **TensorFlow tensor**.\n",
    "- Ensure the **data type remains consistent** (`float32`) during conversions.\n",
    "\n",
    "---\n",
    "\n",
    "This challenge will solidify your understanding of how **TensorFlow and NumPy** can work together, especially in **preprocessing data**, **model input/output**, and **data analysis**. Let me know if this aligns with your expectations! 🚀"
   ]
  },
  {
   "cell_type": "markdown",
   "id": "1b919ccd-3888-47b2-9a4e-22d7d5a5a123",
   "metadata": {},
   "source": [
    "# Solution"
   ]
  },
  {
   "cell_type": "code",
   "execution_count": 1,
   "id": "308af162-c35c-4e86-b513-2742d2efa51a",
   "metadata": {},
   "outputs": [],
   "source": [
    "# Import Necessary Libraries\n",
    "import tensorflow as tf\n",
    "import numpy as np"
   ]
  },
  {
   "cell_type": "code",
   "execution_count": 2,
   "id": "f6c174c4-eb60-476d-bb66-45309317643c",
   "metadata": {},
   "outputs": [
    {
     "name": "stdout",
     "output_type": "stream",
     "text": [
      "Converted Tensor from NumPy Array:\n",
      " tf.Tensor(\n",
      "[[1. 2. 3.]\n",
      " [4. 5. 6.]], shape=(2, 3), dtype=float32)\n",
      "Data Type: <dtype: 'float32'>\n"
     ]
    }
   ],
   "source": [
    "# 1. Convert NumPy Array to TensorFlow Tensor\n",
    "np_array = np.array([[1, 2, 3], [4, 5, 6]], dtype=np.float32)\n",
    "\n",
    "tensor_from_np = tf.convert_to_tensor(np_array)\n",
    "print(\"Converted Tensor from NumPy Array:\\n\", tensor_from_np)\n",
    "print(\"Data Type:\", tensor_from_np.dtype)"
   ]
  },
  {
   "cell_type": "code",
   "execution_count": 3,
   "id": "2b96f76a-12d3-4073-a1aa-e7738005bedd",
   "metadata": {},
   "outputs": [
    {
     "name": "stdout",
     "output_type": "stream",
     "text": [
      "Converted NumPy Array from Tensor:\n",
      " [[10. 20.]\n",
      " [30. 40.]]\n",
      "Data Type: float32\n"
     ]
    }
   ],
   "source": [
    "# 2. Convert TensorFlow Tensor to NumPy Array\n",
    "tensor = tf.constant([[10.0, 20.0], [30.0, 40.0]], dtype=tf.float32)\n",
    "\n",
    "np_array_from_tensor = tensor.numpy()\n",
    "print(\"Converted NumPy Array from Tensor:\\n\", np_array_from_tensor)\n",
    "print(\"Data Type:\", np_array_from_tensor.dtype)"
   ]
  },
  {
   "cell_type": "code",
   "execution_count": 4,
   "id": "5114f2a1-53bc-424c-877f-ee46fa592058",
   "metadata": {},
   "outputs": [
    {
     "name": "stdout",
     "output_type": "stream",
     "text": [
      "Resulting NumPy Array from Element-Wise Addition:\n",
      " [5. 7. 9.]\n",
      "Data Type: float32\n"
     ]
    }
   ],
   "source": [
    "# 3. Performing Arithmetic Operations and Conversion\n",
    "tensorA = tf.constant([1, 2, 3], dtype=tf.float32)\n",
    "tensorB = tf.constant([4, 5, 6], dtype=tf.float32)\n",
    "\n",
    "# Element-Wise Addition and Conversion to NumPy\n",
    "result_tensor = tf.add(tensorA, tensorB)\n",
    "result_np_array = result_tensor.numpy()\n",
    "\n",
    "print(\"Resulting NumPy Array from Element-Wise Addition:\\n\", result_np_array)\n",
    "print(\"Data Type:\", result_np_array.dtype)"
   ]
  },
  {
   "cell_type": "code",
   "execution_count": 5,
   "id": "b1b040f2-c54b-40c4-af63-353e17be948e",
   "metadata": {},
   "outputs": [
    {
     "name": "stdout",
     "output_type": "stream",
     "text": [
      "Modified NumPy Array:\n",
      " [1000. 2000. 3000.]\n",
      "Modified Tensor:\n",
      " [100. 200. 300.]\n"
     ]
    }
   ],
   "source": [
    "# 4. Independent Memory Allocation Between Tensor and NumPy Array\n",
    "np_array = np.array([10, 20, 30], dtype=np.float32)\n",
    "\n",
    "# Convert and Modify Original Array\n",
    "tensor_from_np = tf.convert_to_tensor(np_array)\n",
    "\n",
    "# Modify the original NumPy array\n",
    "np_array *= 100\n",
    "tensor_from_np *= 10\n",
    "\n",
    "print(\"Modified NumPy Array:\\n\", np_array)\n",
    "print(\"Modified Tensor:\\n\", tensor_from_np.numpy())"
   ]
  },
  {
   "cell_type": "markdown",
   "id": "ee1a3404-268d-4634-aaa7-ca3dc49eb354",
   "metadata": {},
   "source": [
    "---\n",
    "\n",
    "## **Explanation of Key Concepts**\n",
    "\n",
    "### **1. Conversion: NumPy to TensorFlow**\n",
    "- **Function Used**: `tf.convert_to_tensor()`\n",
    "- The conversion is **copy-based**, meaning the original **NumPy array** and the resulting **TensorFlow tensor** are **independent**.\n",
    "\n",
    "---\n",
    "\n",
    "### **2. Conversion: TensorFlow to NumPy**\n",
    "- **Method Used**: `.numpy()`\n",
    "- Converts the **tensor** to a **NumPy array**, maintaining **data type** and **shape**.\n",
    "- The conversion is **efficient** and commonly used in **model evaluation** and **data preprocessing**.\n",
    "\n",
    "---\n",
    "\n",
    "### **3. Memory Independence**\n",
    "- Modifying the **original NumPy array** does **not affect** the **TensorFlow tensor** created from it.\n",
    "- This ensures **safe data handling** when tensors are used in **computational graphs** or **deep learning models**.\n",
    "\n",
    "---\n",
    "\n",
    "### **4. Edge Cases Handled**\n",
    "- **Data Type Consistency**: Ensured that all conversions maintain the **`float32`** type.\n",
    "- **Shape Compatibility**: The shapes remain consistent before and after conversion.\n",
    "\n",
    "---\n",
    "\n",
    "## **Time Complexity Analysis**\n",
    "| **Operation**                          | **Time Complexity** |\n",
    "|---------------------------------------|---------------------|\n",
    "| Conversion (NumPy → TensorFlow)        | **O(n)**            |\n",
    "| Conversion (TensorFlow → NumPy)        | **O(n)**            |\n",
    "| Element-Wise Operations (`tf.add()`)   | **O(n)**            |\n",
    "\n",
    "- **n**: Number of elements in the tensor/array.\n",
    "\n",
    "---"
   ]
  }
 ],
 "metadata": {
  "kernelspec": {
   "display_name": "Python 3 (ipykernel)",
   "language": "python",
   "name": "python3"
  },
  "language_info": {
   "codemirror_mode": {
    "name": "ipython",
    "version": 3
   },
   "file_extension": ".py",
   "mimetype": "text/x-python",
   "name": "python",
   "nbconvert_exporter": "python",
   "pygments_lexer": "ipython3",
   "version": "3.12.4"
  }
 },
 "nbformat": 4,
 "nbformat_minor": 5
}
